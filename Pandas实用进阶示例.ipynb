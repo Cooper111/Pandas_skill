{
 "cells": [
  {
   "cell_type": "code",
   "execution_count": 1,
   "metadata": {},
   "outputs": [
    {
     "name": "stdout",
     "output_type": "stream",
     "text": [
      "0.20.3\n"
     ]
    }
   ],
   "source": [
    "import pandas as pd\n",
    "import numpy as np\n",
    "print(pd.__version__)"
   ]
  },
  {
   "cell_type": "markdown",
   "metadata": {},
   "source": [
    "## 使用Datetime数据节省时间"
   ]
  },
  {
   "cell_type": "code",
   "execution_count": 27,
   "metadata": {},
   "outputs": [
    {
     "data": {
      "text/html": [
       "<div>\n",
       "<style>\n",
       "    .dataframe thead tr:only-child th {\n",
       "        text-align: right;\n",
       "    }\n",
       "\n",
       "    .dataframe thead th {\n",
       "        text-align: left;\n",
       "    }\n",
       "\n",
       "    .dataframe tbody tr th {\n",
       "        vertical-align: top;\n",
       "    }\n",
       "</style>\n",
       "<table border=\"1\" class=\"dataframe\">\n",
       "  <thead>\n",
       "    <tr style=\"text-align: right;\">\n",
       "      <th></th>\n",
       "      <th>date_time</th>\n",
       "      <th>energy_kwh</th>\n",
       "    </tr>\n",
       "  </thead>\n",
       "  <tbody>\n",
       "    <tr>\n",
       "      <th>0</th>\n",
       "      <td>1/1/13 0:00</td>\n",
       "      <td>0.586</td>\n",
       "    </tr>\n",
       "    <tr>\n",
       "      <th>1</th>\n",
       "      <td>1/1/13 0:10</td>\n",
       "      <td>0.580</td>\n",
       "    </tr>\n",
       "    <tr>\n",
       "      <th>2</th>\n",
       "      <td>1/1/13 0:20</td>\n",
       "      <td>0.572</td>\n",
       "    </tr>\n",
       "    <tr>\n",
       "      <th>3</th>\n",
       "      <td>1/1/13 0:30</td>\n",
       "      <td>0.596</td>\n",
       "    </tr>\n",
       "    <tr>\n",
       "      <th>4</th>\n",
       "      <td>1/1/13 0:40</td>\n",
       "      <td>0.592</td>\n",
       "    </tr>\n",
       "  </tbody>\n",
       "</table>\n",
       "</div>"
      ],
      "text/plain": [
       "     date_time  energy_kwh\n",
       "0  1/1/13 0:00       0.586\n",
       "1  1/1/13 0:10       0.580\n",
       "2  1/1/13 0:20       0.572\n",
       "3  1/1/13 0:30       0.596\n",
       "4  1/1/13 0:40       0.592"
      ]
     },
     "execution_count": 27,
     "metadata": {},
     "output_type": "execute_result"
    }
   ],
   "source": [
    "df = pd.read_csv('test1.csv')\n",
    "df.head()"
   ]
  },
  {
   "cell_type": "code",
   "execution_count": 22,
   "metadata": {},
   "outputs": [
    {
     "data": {
      "text/plain": [
       "date_time      object\n",
       "energy_kwh    float64\n",
       "dtype: object"
      ]
     },
     "execution_count": 22,
     "metadata": {},
     "output_type": "execute_result"
    }
   ],
   "source": [
    "#如果没有特殊声明，那么自定义的date_time将会使用一个 object 的dtype类型，作为 str 类型会极大的影响效率\n",
    "df.dtypes"
   ]
  },
  {
   "cell_type": "code",
   "execution_count": 23,
   "metadata": {},
   "outputs": [
    {
     "data": {
      "text/plain": [
       "str"
      ]
     },
     "execution_count": 23,
     "metadata": {},
     "output_type": "execute_result"
    }
   ],
   "source": [
    "type(df.iat[0,0])#基于索引位置的选择方法"
   ]
  },
  {
   "cell_type": "markdown",
   "metadata": {},
   "source": [
    "[pandas.to_datetime用法](https://pandas.pydata.org/pandas-docs/stable/generated/pandas.to_datetime.html)"
   ]
  },
  {
   "cell_type": "code",
   "execution_count": 24,
   "metadata": {},
   "outputs": [
    {
     "data": {
      "text/plain": [
       "dtype('<M8[ns]')"
      ]
     },
     "execution_count": 24,
     "metadata": {},
     "output_type": "execute_result"
    }
   ],
   "source": [
    "#格式化为datetime对象数组（pandas称之为时间戳）\n",
    "df['date_time'] = pd.to_datetime(df['date_time'])\n",
    "df['date_time'].dtype"
   ]
  },
  {
   "cell_type": "code",
   "execution_count": 25,
   "metadata": {},
   "outputs": [
    {
     "data": {
      "text/html": [
       "<div>\n",
       "<style>\n",
       "    .dataframe thead tr:only-child th {\n",
       "        text-align: right;\n",
       "    }\n",
       "\n",
       "    .dataframe thead th {\n",
       "        text-align: left;\n",
       "    }\n",
       "\n",
       "    .dataframe tbody tr th {\n",
       "        vertical-align: top;\n",
       "    }\n",
       "</style>\n",
       "<table border=\"1\" class=\"dataframe\">\n",
       "  <thead>\n",
       "    <tr style=\"text-align: right;\">\n",
       "      <th></th>\n",
       "      <th>date_time</th>\n",
       "      <th>energy_kwh</th>\n",
       "    </tr>\n",
       "  </thead>\n",
       "  <tbody>\n",
       "    <tr>\n",
       "      <th>0</th>\n",
       "      <td>2013-01-01 00:00:00</td>\n",
       "      <td>0.586</td>\n",
       "    </tr>\n",
       "    <tr>\n",
       "      <th>1</th>\n",
       "      <td>2013-01-01 00:10:00</td>\n",
       "      <td>0.580</td>\n",
       "    </tr>\n",
       "    <tr>\n",
       "      <th>2</th>\n",
       "      <td>2013-01-01 00:20:00</td>\n",
       "      <td>0.572</td>\n",
       "    </tr>\n",
       "    <tr>\n",
       "      <th>3</th>\n",
       "      <td>2013-01-01 00:30:00</td>\n",
       "      <td>0.596</td>\n",
       "    </tr>\n",
       "    <tr>\n",
       "      <th>4</th>\n",
       "      <td>2013-01-01 00:40:00</td>\n",
       "      <td>0.592</td>\n",
       "    </tr>\n",
       "  </tbody>\n",
       "</table>\n",
       "</div>"
      ],
      "text/plain": [
       "            date_time  energy_kwh\n",
       "0 2013-01-01 00:00:00       0.586\n",
       "1 2013-01-01 00:10:00       0.580\n",
       "2 2013-01-01 00:20:00       0.572\n",
       "3 2013-01-01 00:30:00       0.596\n",
       "4 2013-01-01 00:40:00       0.592"
      ]
     },
     "execution_count": 25,
     "metadata": {},
     "output_type": "execute_result"
    }
   ],
   "source": [
    "#转化后的效果\n",
    "df.head()"
   ]
  },
  {
   "cell_type": "code",
   "execution_count": 41,
   "metadata": {},
   "outputs": [
    {
     "name": "stdout",
     "output_type": "stream",
     "text": [
      "所需时间：0.001028\n"
     ]
    }
   ],
   "source": [
    "import time\n",
    "def timeit(fun):\n",
    "    def wrapper(*args,**kwargs):\n",
    "        t1=time.time()\n",
    "        res = fun(*args,**kwargs)\n",
    "        t2 = time.time()\n",
    "        grot = t2-t1\n",
    "        print(\"所需时间：%.6f\" %grot)\n",
    "        \n",
    "        return res\n",
    "    return wrapper\n",
    "\n",
    "#通过 timeit 装饰器来测试一下上面代码的转化时间\n",
    "df = pd.read_csv('test1.csv')\n",
    "@timeit\n",
    "def convert(df, column_name):\n",
    "    return pd.to_datetime(df[column_name])\n",
    "\n",
    "df['date_time'] = convert(df, 'date_time')"
   ]
  },
  {
   "cell_type": "code",
   "execution_count": 43,
   "metadata": {},
   "outputs": [
    {
     "name": "stdout",
     "output_type": "stream",
     "text": [
      "所需时间：0.000995\n"
     ]
    }
   ],
   "source": [
    "#更快方法--设置了转化的格式format\n",
    "#由于在CSV中的datetimes并不是 ISO 8601 格式的，如果不进行设置的话，那么pandas将使用 dateutil 包把每个字符串str转化成date日期\n",
    "#相反，如果原始数据datetime已经是 ISO 8601 格式了，那么pandas就可以立即使用最快速的方法来解析日期\n",
    "df = pd.read_csv('test1.csv')\n",
    "\n",
    "@timeit\n",
    "def convert_with_format(df, column_name):\n",
    "    return pd.to_datetime(df[column_name], format='%d/%m/%y %H:%M')\n",
    "\n",
    "df['date_time'] = convert_with_format(df, 'date_time')"
   ]
  },
  {
   "cell_type": "markdown",
   "metadata": {},
   "source": [
    "## Pandas数据的循环操作"
   ]
  },
  {
   "cell_type": "code",
   "execution_count": 44,
   "metadata": {},
   "outputs": [],
   "source": [
    "# 使用apply方法写一个函数，函数里面写好时间条件的逻辑代码\n",
    "def apply_tariff(kwh, hour):\n",
    "    \"\"\"计算每个小时的电费\"\"\"    \n",
    "    if 0 <= hour < 7:\n",
    "        rate = 12\n",
    "    elif 7 <= hour < 17:\n",
    "        rate = 20\n",
    "    elif 17 <= hour < 24:\n",
    "        rate = 28\n",
    "    else:\n",
    "        raise ValueError(f'Invalid hour: {hour}')\n",
    "    return rate * kwh"
   ]
  },
  {
   "cell_type": "code",
   "execution_count": 50,
   "metadata": {},
   "outputs": [
    {
     "name": "stdout",
     "output_type": "stream",
     "text": [
      "所需时间：0.002992\n"
     ]
    }
   ],
   "source": [
    "# 最烂方法\n",
    "df = pd.read_csv('test1.csv')\n",
    "df['date_time'] = pd.to_datetime(df['date_time'], format='%d/%m/%y %H:%M')\n",
    "@timeit\n",
    "def apply_tariff_loop(df):\n",
    "    \"\"\"Calculate costs in loop.  Modifies `df` inplace.\"\"\"\n",
    "    energy_cost_list = []\n",
    "    for i in range(len(df)):\n",
    "        # 获取用电量和时间（小时）\n",
    "        energy_used = df.iloc[i]['energy_kwh']\n",
    "        hour = df.iloc[i]['date_time'].hour\n",
    "        energy_cost = apply_tariff(energy_used, hour)\n",
    "        energy_cost_list.append(energy_cost)\n",
    "    df['cost_cents'] = energy_cost_list\n",
    "    \n",
    "apply_tariff_loop(df)"
   ]
  },
  {
   "cell_type": "code",
   "execution_count": 51,
   "metadata": {},
   "outputs": [
    {
     "name": "stdout",
     "output_type": "stream",
     "text": [
      "所需时间：0.004990\n"
     ]
    }
   ],
   "source": [
    "# 常用方法 apply()\n",
    "# lambda函数将帮助你将两列数据传递给apply_tariff()\n",
    "df = pd.read_csv('test1.csv')\n",
    "df['date_time'] = pd.to_datetime(df['date_time'], format='%d/%m/%y %H:%M')\n",
    "@timeit\n",
    "def apply_tariff_withapply(df):\n",
    "    df['cost_cents'] = df.apply(\n",
    "    lambda row: apply_tariff(\n",
    "        kwh=row['energy_kwh'],\n",
    "        hour=row['date_time'].hour),\n",
    "    axis=1)\n",
    "    \n",
    "apply_tariff_withapply(df)"
   ]
  },
  {
   "cell_type": "code",
   "execution_count": 52,
   "metadata": {},
   "outputs": [
    {
     "name": "stdout",
     "output_type": "stream",
     "text": [
      "所需时间：0.000997\n"
     ]
    }
   ],
   "source": [
    "# 推荐做法使用itertuples() 和iterrows() 循环\n",
    "df = pd.read_csv('test1.csv')\n",
    "df['date_time'] = pd.to_datetime(df['date_time'], format='%d/%m/%y %H:%M')\n",
    "@timeit\n",
    "def apply_tariff_iterrows(df):\n",
    "    energy_cost_list = []\n",
    "    for index, row in df.iterrows():\n",
    "        # 获取用电量和时间（小时）\n",
    "        energy_used = row['energy_kwh']\n",
    "        hour = row['date_time'].hour\n",
    "        # 添加cost列表\n",
    "        energy_cost = apply_tariff(energy_used, hour)\n",
    "        energy_cost_list.append(energy_cost)\n",
    "    df['cost_cents'] = energy_cost_list\n",
    "\n",
    "apply_tariff_iterrows(df)"
   ]
  },
  {
   "cell_type": "code",
   "execution_count": 54,
   "metadata": {},
   "outputs": [
    {
     "name": "stdout",
     "output_type": "stream",
     "text": [
      "所需时间：0.059863\n"
     ]
    }
   ],
   "source": [
    "# 矢量化操作：使用.isin()选择数据\n",
    "df = pd.read_csv('test1.csv')\n",
    "df['date_time'] = pd.to_datetime(df['date_time'], format='%d/%m/%y %H:%M')\n",
    "df.set_index('date_time', inplace=True)\n",
    "\n",
    "@timeit\n",
    "def apply_tariff_isin(df):\n",
    "    # 定义小时范围Boolean数组\n",
    "    peak_hours = df.index.hour.isin(range(17, 24))\n",
    "    shoulder_hours = df.index.hour.isin(range(7, 17))\n",
    "    off_peak_hours = df.index.hour.isin(range(0, 7))\n",
    "\n",
    "    # 使用上面的定义\n",
    "    df.loc[peak_hours, 'cost_cents'] = df.loc[peak_hours, 'energy_kwh'] * 28\n",
    "    df.loc[shoulder_hours,'cost_cents'] = df.loc[shoulder_hours, 'energy_kwh'] * 20\n",
    "    df.loc[off_peak_hours,'cost_cents'] = df.loc[off_peak_hours, 'energy_kwh'] * 12\n",
    "\n",
    "apply_tariff_isin(df)"
   ]
  },
  {
   "cell_type": "code",
   "execution_count": 57,
   "metadata": {},
   "outputs": [
    {
     "name": "stdout",
     "output_type": "stream",
     "text": [
      "所需时间：0.036932\n"
     ]
    }
   ],
   "source": [
    "# 还可以做的更好,可以使用Pandas的pd.cut() 函数\n",
    "#完全矢量化的方式： pd.cut() 根据每小时所属的bin应用一组标签(costs)\n",
    "#注意include_lowest参数表示第一个间隔是否应该是包含左边的(您希望在组中包含时间= 0)\n",
    "df = pd.read_csv('test1.csv')\n",
    "df['date_time'] = pd.to_datetime(df['date_time'], format='%d/%m/%y %H:%M')\n",
    "df.set_index('date_time', inplace=True)\n",
    "@timeit\n",
    "def apply_tariff_cut(df):\n",
    "    cents_per_kwh = pd.cut(x=df.index.hour,\n",
    "                           bins=[0, 7, 17, 24],\n",
    "                           include_lowest=True,\n",
    "                           labels=[12, 20, 28]).astype(int)\n",
    "    df['cost_cents'] = cents_per_kwh * df['energy_kwh']\n",
    "apply_tariff_cut(df)"
   ]
  },
  {
   "cell_type": "code",
   "execution_count": null,
   "metadata": {},
   "outputs": [],
   "source": []
  }
 ],
 "metadata": {
  "kernelspec": {
   "display_name": "tensorflow-gpu",
   "language": "python",
   "name": "tensorflow-gpu"
  },
  "language_info": {
   "codemirror_mode": {
    "name": "ipython",
    "version": 3
   },
   "file_extension": ".py",
   "mimetype": "text/x-python",
   "name": "python",
   "nbconvert_exporter": "python",
   "pygments_lexer": "ipython3",
   "version": "3.6.2"
  }
 },
 "nbformat": 4,
 "nbformat_minor": 2
}
